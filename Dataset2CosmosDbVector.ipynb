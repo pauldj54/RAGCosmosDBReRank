{
 "cells": [
  {
   "cell_type": "code",
   "execution_count": null,
   "metadata": {},
   "outputs": [],
   "source": [
    "from beir.datasets.data_loader import GenericDataLoader\n",
    "data_path = \"datasets/hotpotqa\"\n",
    "corpus, queries, qrels = GenericDataLoader(data_folder=data_path).load(split=\"test\")"
   ]
  },
  {
   "cell_type": "code",
   "execution_count": null,
   "metadata": {},
   "outputs": [],
   "source": [
    "# Get the top n dictionary entries\n",
    "corpus_select = dict(list(corpus.items())[:5])\n",
    "\n",
    "for c in corpus_select.values():\n",
    "    print(c) \n",
    "    print(type(c))"
   ]
  },
  {
   "cell_type": "code",
   "execution_count": null,
   "metadata": {},
   "outputs": [],
   "source": [
    "print(corpus_select.items())\n"
   ]
  },
  {
   "cell_type": "code",
   "execution_count": null,
   "metadata": {},
   "outputs": [],
   "source": [
    "import json\n",
    "# Convert the dictionary to the desired JSON array format\n",
    "corpus_json_array = [{'id': int(key), 'text': value['text']} for key, value in corpus_select.items()]\n",
    "\n",
    "# Convert the list to a JSON string\n",
    "json_output = json.dumps(corpus_json_array, indent=4)\n",
    "\n",
    "print(json_output)"
   ]
  },
  {
   "cell_type": "code",
   "execution_count": null,
   "metadata": {},
   "outputs": [],
   "source": [
    "import os\n",
    "from openai import AzureOpenAI\n",
    "from dotenv import load_dotenv\n",
    "\n",
    "# Load the environment variables from .env\n",
    "load_dotenv()\n",
    "\n",
    "# 1. Set up Azure OpenAI and Cosmos DB credentials\n",
    "embeddings_endpoint = os.environ.get('AOAI_ENDPOINT')\n",
    "embeddings_api_version = \"2024-02-01\"\n",
    "embeddings_api_key = os.environ.get('AOAI_API_KEY')\n",
    "\n",
    "# Initialize the Azure OpenAI client\n",
    "endpoint = \"https://swc-aoai-dev-01.openai.azure.com/\"\n",
    "model_name = \"text-embedding-3-large\"\n",
    "\n",
    "openai_client = AzureOpenAI(\n",
    "    api_version=\"2024-12-01-preview\",\n",
    "    azure_endpoint=endpoint,\n",
    "    api_key=embeddings_api_key\n",
    ")\n",
    "\n",
    "# Function to get embeddings from Azure OpenAI\n",
    "def get_embeddings(text):\n",
    "    response = openai_client.embeddings.create(\n",
    "        model=model_name,\n",
    "        input=text,\n",
    "        dimensions=3072\n",
    "    )\n",
    "    return response.data[0].embedding\n",
    "    \n",
    "print(get_embeddings(\"Hello, how are you?\"))"
   ]
  },
  {
   "cell_type": "code",
   "execution_count": null,
   "metadata": {},
   "outputs": [],
   "source": [
    "# Convert the dictionary to the desired JSON array format and add vector_text attribute\n",
    "json_array = []\n",
    "for key, value in corpus_select.items():\n",
    "    text = value['text']\n",
    "    vector_text = get_embeddings(text)\n",
    "    if vector_text is not None:\n",
    "        json_array.append({'id': key, 'text': text, 'vector1': vector_text})\n",
    "\n",
    "# Convert the list to a JSON string\n",
    "json_output = json.dumps(json_array, indent=4)\n",
    "\n",
    "print(json_output)"
   ]
  },
  {
   "cell_type": "code",
   "execution_count": null,
   "metadata": {},
   "outputs": [],
   "source": [
    "from azure.cosmos import CosmosClient, PartitionKey\n",
    "\n",
    "# Initialize the Cosmos client\n",
    "connection_string = os.environ.get('COSMOSDB_CONN_STR')\n",
    "client = CosmosClient.from_connection_string(connection_string)\n",
    "\n",
    "# Define the database and container\n",
    "database_name = 'EmbeddingsDB'\n",
    "container_name = 'hotpotqa'\n",
    "database = client.get_database_client(database_name)\n",
    "container = database.get_container_client(container_name)"
   ]
  },
  {
   "cell_type": "code",
   "execution_count": null,
   "metadata": {},
   "outputs": [],
   "source": [
    "from azure.cosmos import CosmosClient, PartitionKey, exceptions\n",
    "# Define the database and container\n",
    "database_name = 'EmbeddingsDB'\n",
    "container_name = 'hotpotqa'\n",
    "database = client.get_database_client(database_name)\n",
    "\n",
    "# Define indexing policy and vector embedding policy if needed\n",
    "vector_embedding_policy = {\n",
    "    \"vectorEmbeddings\": [ \n",
    "        { \n",
    "            \"path\": \"/vectorized_text\", \n",
    "            \"dataType\": \"float32\", \n",
    "            \"distanceFunction\": \"euclidean\", \n",
    "            \"dimensions\":  3072\n",
    "        }\n",
    "    ] \n",
    "}\n",
    "\n",
    "indexing_policy = {\n",
    "    \"indexingMode\": \"consistent\",\n",
    "    \"automatic\": True,\n",
    "    \"includedPaths\": [\n",
    "        {\n",
    "            \"path\": \"/*\"\n",
    "        }\n",
    "    ],\n",
    "    \"excludedPaths\": [\n",
    "        {\n",
    "            \"path\": \"/\\\"_etag\\\"/?\"\n",
    "        },\n",
    "        {\n",
    "            \"path\": \"/vectorized_text/*\"\n",
    "        }\n",
    "    ],\n",
    "    \"fullTextIndexes\": [],\n",
    "    \"vectorIndexes\": [\n",
    "        {\n",
    "        \"path\": \"/vectorized_text\",\n",
    "        \"type\": \"diskANN\",\n",
    "        \"quantizationByteSize\": 128,\n",
    "        \"IndexingSearchListSize\": 100\n",
    "        }\n",
    "    ]\n",
    "}\n",
    "\n",
    "# Create container if not exists\n",
    "try:\n",
    "    container = database.create_container_if_not_exists(\n",
    "        id=container_name,\n",
    "        partition_key=PartitionKey(path='/id'),\n",
    "        indexing_policy=indexing_policy,\n",
    "        vector_embedding_policy=vector_embedding_policy\n",
    "    )\n",
    "    print(f'Container with id \\'{container_name}\\' created')\n",
    "except exceptions.CosmosHttpResponseError as e:\n",
    "    raise e"
   ]
  },
  {
   "cell_type": "code",
   "execution_count": null,
   "metadata": {},
   "outputs": [],
   "source": [
    "# Convert the dictionary to the desired JSON array format and add vector_text attribute\n",
    "json_array = []\n",
    "for key, value in corpus.items():\n",
    "    text = value['text']\n",
    "    vector_text = get_embeddings(text)\n",
    "    if vector_text is not None:\n",
    "        json_array.append({'id': key, 'text': text, 'vectorized_text': vector_text})\n",
    "\n",
    "# Insert documents in batches of 100\n",
    "batch_size = 100\n",
    "for i in range(0, len(json_array), batch_size):\n",
    "    batch = json_array[i:i + batch_size]\n",
    "    print(\"Current batch: \" + str(i+batch_size))\n",
    "    for item in batch:\n",
    "        container.upsert_item(item)\n",
    "\n",
    "print(\"Data inserted into Cosmos DB successfully.\")"
   ]
  },
  {
   "cell_type": "code",
   "execution_count": null,
   "metadata": {},
   "outputs": [],
   "source": [
    "len(corpus)"
   ]
  },
  {
   "cell_type": "code",
   "execution_count": null,
   "metadata": {},
   "outputs": [],
   "source": [
    "# Convert the dictionary to the desired JSON array format and add vector_text attribute\n",
    "# Insert documents in batches of 100\n",
    "import time\n",
    "# Function to insert a batch of items with retry logic\n",
    "def insert_batch_with_retry(batch, retries=3, delay=5):\n",
    "    for attempt in range(retries):\n",
    "        try:\n",
    "            for item in batch:\n",
    "                container.upsert_item(item)\n",
    "            return\n",
    "        except exceptions.CosmosHttpResponseError as e:\n",
    "            print(f\"Attempt {attempt + 1} failed: {e}\")\n",
    "            if attempt < retries - 1:\n",
    "                time.sleep(delay)\n",
    "            else:\n",
    "                raise\n",
    "\n",
    "batch_size = 100\n",
    "for i in range(0, len(corpus.items()), batch_size):\n",
    "    for key, value in corpus.items():\n",
    "        text = value['text']\n",
    "        vector_text = get_embeddings(text)\n",
    "        if vector_text is not None:\n",
    "            batch = {'id': key, 'text': text, 'vectorized_text': vector_text}\n",
    "            insert_batch_with_retry(batch, 3, 5)\n",
    "            #container.upsert_item({'id': key, 'text': text, 'vectorized_text': vector_text})\n",
    "    print(\"Current batch: \" + str(i+batch_size))\n",
    "print(\"Data inserted into Cosmos DB successfully.\")"
   ]
  }
 ],
 "metadata": {
  "kernelspec": {
   "display_name": ".venv",
   "language": "python",
   "name": "python3"
  },
  "language_info": {
   "codemirror_mode": {
    "name": "ipython",
    "version": 3
   },
   "file_extension": ".py",
   "mimetype": "text/x-python",
   "name": "python",
   "nbconvert_exporter": "python",
   "pygments_lexer": "ipython3",
   "version": "3.13.1"
  }
 },
 "nbformat": 4,
 "nbformat_minor": 2
}
